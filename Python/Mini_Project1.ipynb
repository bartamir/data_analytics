{
  "nbformat": 4,
  "nbformat_minor": 0,
  "metadata": {
    "colab": {
      "name": "Mini_Project1.ipynb",
      "provenance": [],
      "collapsed_sections": []
    },
    "kernelspec": {
      "name": "python3",
      "display_name": "Python 3"
    }
  },
  "cells": [
    {
      "cell_type": "code",
      "metadata": {
        "id": "2ZTSRIm_644g"
      },
      "source": [
        "#Mini_Project - Asks the user for any number and print out a message depending on whether the number is even or odd\r\n",
        "##since a number is even when diviseable by two, I used the remainder operator to reach zero. If the remainder is not zero, the number is odd. "
      ],
      "execution_count": null,
      "outputs": []
    },
    {
      "cell_type": "code",
      "metadata": {
        "id": "nYA965Dd8K_Z",
        "colab": {
          "base_uri": "https://localhost:8080/"
        },
        "outputId": "53846ca3-5652-489c-97b8-6dc052f19521"
      },
      "source": [
        "number = input(\"Hello there, please enter any number: \")\r\n",
        "if int(number) % 2 == 0:\r\n",
        "  print(\"Your number is even, steven?\")\r\n",
        "else:\r\n",
        "  print(\"That is an odd number dude!\")"
      ],
      "execution_count": null,
      "outputs": [
        {
          "output_type": "stream",
          "text": [
            "Hello there, please enter any number: 24\n",
            "Your number is even, steven?\n"
          ],
          "name": "stdout"
        }
      ]
    },
    {
      "cell_type": "code",
      "metadata": {
        "id": "2kSOMi3q8hmG"
      },
      "source": [
        "#Bonus - if the number is a multiple of 4, print a different message.\r\n",
        "##Same principle as before, run the code to check if diviseable by four before checking if the number is deviseable by 2 (even)."
      ],
      "execution_count": null,
      "outputs": []
    },
    {
      "cell_type": "code",
      "metadata": {
        "colab": {
          "base_uri": "https://localhost:8080/"
        },
        "id": "TCGdYIEgHJyO",
        "outputId": "23abc9ef-0a1b-41ee-b701-8445fb5f19a1"
      },
      "source": [
        "number = input(\"Hello there, please enter any number: \")\r\n",
        "if int(number) % 4 == 0:\r\n",
        "  print(\"Like The Beatles' week, your number is a multiple of 4!\")\r\n",
        "elif int(number) % 2 == 0:\r\n",
        "  print(\"Your number is even, steven?\")\r\n",
        "else:\r\n",
        "  print(\"That is an odd number dude!\")"
      ],
      "execution_count": null,
      "outputs": [
        {
          "output_type": "stream",
          "text": [
            "Hello there, please enter any number: 8\n",
            "Like The Beatles' week, your number is a multiple of 4!\n"
          ],
          "name": "stdout"
        }
      ]
    },
    {
      "cell_type": "code",
      "metadata": {
        "id": "RIJ3wkNXINp3"
      },
      "source": [
        "#Asking the user fr two numbers, one to check and one to divide.\r\n",
        "##If check divides evenly by num, print a message. Else, print an alternative message"
      ],
      "execution_count": null,
      "outputs": []
    },
    {
      "cell_type": "code",
      "metadata": {
        "colab": {
          "base_uri": "https://localhost:8080/"
        },
        "id": "jjsC_rIRIzgP",
        "outputId": "079874d1-0f43-4783-e0c4-145993ad4cdc"
      },
      "source": [
        "num = input(\"You again?, enter another number please: \")\r\n",
        "check = input(\"Another one bites the dust, pick an additional number please: \")\r\n",
        "if int(check) % int(num) == 0:\r\n",
        "  print(\"You are so good at inputting numbers, \" + check + \" divides evenly by \" + num + \".\")\r\n",
        "else: \r\n",
        "  print(\"Thank you for inputting numbers so gracefully, \" + check + \" does not divides evenly into \" + num + \".\")\r\n"
      ],
      "execution_count": 19,
      "outputs": [
        {
          "output_type": "stream",
          "text": [
            "You again?, enter another number please: 4\n",
            "Another one bites the dust, pick an additional number please: 8\n",
            "You are so good at inputting numbers, 8 divides evenly by 4.\n"
          ],
          "name": "stdout"
        }
      ]
    },
    {
      "cell_type": "code",
      "metadata": {
        "id": "HvwBnGe_MRig"
      },
      "source": [
        "#Custom function for finding whether the number is even or odd."
      ],
      "execution_count": null,
      "outputs": []
    },
    {
      "cell_type": "code",
      "metadata": {
        "colab": {
          "base_uri": "https://localhost:8080/"
        },
        "id": "wTAkVsU2OfpC",
        "outputId": "80a1022e-0224-483e-cd35-37afc2d37d16"
      },
      "source": [
        "def evenodd(even, odd):\r\n",
        "  number = input(\"Enter Number: \")\r\n",
        "  if int(number) % 2 == 0:\r\n",
        "    print(\"This is an even number.\")\r\n",
        "  else:\r\n",
        "    print(\"This is an odd number.\")\r\n",
        "evenodd('even', 'odd')"
      ],
      "execution_count": null,
      "outputs": [
        {
          "output_type": "stream",
          "text": [
            "Enter Number: 4\n",
            "This is an even number.\n"
          ],
          "name": "stdout"
        }
      ]
    }
  ]
}